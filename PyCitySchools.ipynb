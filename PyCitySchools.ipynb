{
  "nbformat": 4,
  "nbformat_minor": 0,
  "metadata": {
    "colab": {
      "name": "PyCitySchools.ipynb",
      "provenance": []
    },
    "kernelspec": {
      "name": "python3",
      "display_name": "Python 3"
    },
    "language_info": {
      "name": "python"
    }
  },
  "cells": [
    {
      "cell_type": "code",
      "metadata": {
        "id": "VqvfqIDguytI"
      },
      "source": [
        "# Add the dependencies.\n",
        "import pandas as pd\n",
        "import os"
      ],
      "execution_count": 1,
      "outputs": []
    },
    {
      "cell_type": "code",
      "metadata": {
        "colab": {
          "base_uri": "https://localhost:8080/"
        },
        "id": "qCWww2WhaAVI",
        "outputId": "8750e5ef-e68b-4824-d3fe-0f40d17ab503"
      },
      "source": [
        "os.chdir('c:\\\\Users\\\\lucya\\\\desktop\\\\School_District_Analysis')\n",
        "print(os.getcwd())"
      ],
      "execution_count": 5,
      "outputs": [
        {
          "output_type": "stream",
          "name": "stdout",
          "text": [
            "c:\\Users\\lucya\\desktop\\School_District_Analysis\n"
          ]
        }
      ]
    },
    {
      "cell_type": "code",
      "metadata": {
        "id": "5Jzq9mV6vAwh"
      },
      "source": [
        "# Files to load\n",
        "school_data_to_load = \"Resources/schools_complete.csv\"\n",
        "student_data_to_load = \"Resources/students_complete.csv\"\n",
        "\n",
        "# Files to load\n",
        "school_data_to_load = os.path.join(\"Resources\", \"schools_complete.csv\")\n",
        "student_data_to_load = os.path.join(\"Resources\", \"students_complete.csv\")"
      ],
      "execution_count": 10,
      "outputs": []
    },
    {
      "cell_type": "code",
      "metadata": {
        "id": "rz7wR6acvEfj",
        "colab": {
          "base_uri": "https://localhost:8080/",
          "height": 204
        },
        "outputId": "76c4f9c2-4ab8-4893-bc63-bfcf3d26b5f0"
      },
      "source": [
        "# Read the school data file and store it in a Pandas DataFrame.\n",
        "school_data_df = pd.read_csv(school_data_to_load)\n",
        "school_data_df.head()"
      ],
      "execution_count": 11,
      "outputs": [
        {
          "output_type": "execute_result",
          "data": {
            "text/plain": [
              "   School ID            school_name      type  size   budget\n",
              "0          0      Huang High School  District  2917  1910635\n",
              "1          1   Figueroa High School  District  2949  1884411\n",
              "2          2    Shelton High School   Charter  1761  1056600\n",
              "3          3  Hernandez High School  District  4635  3022020\n",
              "4          4    Griffin High School   Charter  1468   917500"
            ],
            "text/html": [
              "<div>\n",
              "<style scoped>\n",
              "    .dataframe tbody tr th:only-of-type {\n",
              "        vertical-align: middle;\n",
              "    }\n",
              "\n",
              "    .dataframe tbody tr th {\n",
              "        vertical-align: top;\n",
              "    }\n",
              "\n",
              "    .dataframe thead th {\n",
              "        text-align: right;\n",
              "    }\n",
              "</style>\n",
              "<table border=\"1\" class=\"dataframe\">\n",
              "  <thead>\n",
              "    <tr style=\"text-align: right;\">\n",
              "      <th></th>\n",
              "      <th>School ID</th>\n",
              "      <th>school_name</th>\n",
              "      <th>type</th>\n",
              "      <th>size</th>\n",
              "      <th>budget</th>\n",
              "    </tr>\n",
              "  </thead>\n",
              "  <tbody>\n",
              "    <tr>\n",
              "      <th>0</th>\n",
              "      <td>0</td>\n",
              "      <td>Huang High School</td>\n",
              "      <td>District</td>\n",
              "      <td>2917</td>\n",
              "      <td>1910635</td>\n",
              "    </tr>\n",
              "    <tr>\n",
              "      <th>1</th>\n",
              "      <td>1</td>\n",
              "      <td>Figueroa High School</td>\n",
              "      <td>District</td>\n",
              "      <td>2949</td>\n",
              "      <td>1884411</td>\n",
              "    </tr>\n",
              "    <tr>\n",
              "      <th>2</th>\n",
              "      <td>2</td>\n",
              "      <td>Shelton High School</td>\n",
              "      <td>Charter</td>\n",
              "      <td>1761</td>\n",
              "      <td>1056600</td>\n",
              "    </tr>\n",
              "    <tr>\n",
              "      <th>3</th>\n",
              "      <td>3</td>\n",
              "      <td>Hernandez High School</td>\n",
              "      <td>District</td>\n",
              "      <td>4635</td>\n",
              "      <td>3022020</td>\n",
              "    </tr>\n",
              "    <tr>\n",
              "      <th>4</th>\n",
              "      <td>4</td>\n",
              "      <td>Griffin High School</td>\n",
              "      <td>Charter</td>\n",
              "      <td>1468</td>\n",
              "      <td>917500</td>\n",
              "    </tr>\n",
              "  </tbody>\n",
              "</table>\n",
              "</div>"
            ]
          },
          "metadata": {},
          "execution_count": 11
        }
      ]
    },
    {
      "cell_type": "code",
      "metadata": {
        "id": "xy39XqB8vEc2",
        "colab": {
          "base_uri": "https://localhost:8080/",
          "height": 204
        },
        "outputId": "d342abda-e386-40c2-9d08-7465d2026672"
      },
      "source": [
        "# Read the student data file and store it in a Pandas DataFrame.\n",
        "student_data_df = pd.read_csv(student_data_to_load)\n",
        "student_data_df.head()"
      ],
      "execution_count": 12,
      "outputs": [
        {
          "output_type": "execute_result",
          "data": {
            "text/plain": [
              "   Student ID       student_name gender grade        school_name  \\\n",
              "0           0       Paul Bradley      M   9th  Huang High School   \n",
              "1           1       Victor Smith      M  12th  Huang High School   \n",
              "2           2    Kevin Rodriguez      M  12th  Huang High School   \n",
              "3           3  Dr. Richard Scott      M  12th  Huang High School   \n",
              "4           4         Bonnie Ray      F   9th  Huang High School   \n",
              "\n",
              "   reading_score  math_score  \n",
              "0             66          79  \n",
              "1             94          61  \n",
              "2             90          60  \n",
              "3             67          58  \n",
              "4             97          84  "
            ],
            "text/html": [
              "<div>\n",
              "<style scoped>\n",
              "    .dataframe tbody tr th:only-of-type {\n",
              "        vertical-align: middle;\n",
              "    }\n",
              "\n",
              "    .dataframe tbody tr th {\n",
              "        vertical-align: top;\n",
              "    }\n",
              "\n",
              "    .dataframe thead th {\n",
              "        text-align: right;\n",
              "    }\n",
              "</style>\n",
              "<table border=\"1\" class=\"dataframe\">\n",
              "  <thead>\n",
              "    <tr style=\"text-align: right;\">\n",
              "      <th></th>\n",
              "      <th>Student ID</th>\n",
              "      <th>student_name</th>\n",
              "      <th>gender</th>\n",
              "      <th>grade</th>\n",
              "      <th>school_name</th>\n",
              "      <th>reading_score</th>\n",
              "      <th>math_score</th>\n",
              "    </tr>\n",
              "  </thead>\n",
              "  <tbody>\n",
              "    <tr>\n",
              "      <th>0</th>\n",
              "      <td>0</td>\n",
              "      <td>Paul Bradley</td>\n",
              "      <td>M</td>\n",
              "      <td>9th</td>\n",
              "      <td>Huang High School</td>\n",
              "      <td>66</td>\n",
              "      <td>79</td>\n",
              "    </tr>\n",
              "    <tr>\n",
              "      <th>1</th>\n",
              "      <td>1</td>\n",
              "      <td>Victor Smith</td>\n",
              "      <td>M</td>\n",
              "      <td>12th</td>\n",
              "      <td>Huang High School</td>\n",
              "      <td>94</td>\n",
              "      <td>61</td>\n",
              "    </tr>\n",
              "    <tr>\n",
              "      <th>2</th>\n",
              "      <td>2</td>\n",
              "      <td>Kevin Rodriguez</td>\n",
              "      <td>M</td>\n",
              "      <td>12th</td>\n",
              "      <td>Huang High School</td>\n",
              "      <td>90</td>\n",
              "      <td>60</td>\n",
              "    </tr>\n",
              "    <tr>\n",
              "      <th>3</th>\n",
              "      <td>3</td>\n",
              "      <td>Dr. Richard Scott</td>\n",
              "      <td>M</td>\n",
              "      <td>12th</td>\n",
              "      <td>Huang High School</td>\n",
              "      <td>67</td>\n",
              "      <td>58</td>\n",
              "    </tr>\n",
              "    <tr>\n",
              "      <th>4</th>\n",
              "      <td>4</td>\n",
              "      <td>Bonnie Ray</td>\n",
              "      <td>F</td>\n",
              "      <td>9th</td>\n",
              "      <td>Huang High School</td>\n",
              "      <td>97</td>\n",
              "      <td>84</td>\n",
              "    </tr>\n",
              "  </tbody>\n",
              "</table>\n",
              "</div>"
            ]
          },
          "metadata": {},
          "execution_count": 12
        }
      ]
    },
    {
      "cell_type": "code",
      "metadata": {
        "id": "bZSKlNHYvEVJ"
      },
      "source": [
        "# Determine if there are any missing values in the school data.\n",
        "school_data_df.count()"
      ],
      "execution_count": null,
      "outputs": []
    },
    {
      "cell_type": "code",
      "metadata": {
        "id": "k6p_sZMCvESz"
      },
      "source": [
        "# Determine if there are any missing values in the student data.\n",
        "student_data_df.count()"
      ],
      "execution_count": null,
      "outputs": []
    },
    {
      "cell_type": "code",
      "metadata": {
        "id": "cPbI_kjXvEQf"
      },
      "source": [
        "# Determine if there are any missing values in the school data.\n",
        "school_data_df.isnull()"
      ],
      "execution_count": null,
      "outputs": []
    },
    {
      "cell_type": "code",
      "metadata": {
        "id": "sJtMEA5nvEN9"
      },
      "source": [
        "# Determine if there are any missing values in the student data.\n",
        "student_data_df.isnull()"
      ],
      "execution_count": null,
      "outputs": []
    },
    {
      "cell_type": "code",
      "metadata": {
        "id": "QIt0_IZDvELm"
      },
      "source": [
        "student_data_df.isnull().sum()"
      ],
      "execution_count": null,
      "outputs": []
    },
    {
      "cell_type": "code",
      "metadata": {
        "id": "rRh7mvsmvEI7"
      },
      "source": [
        "# Determine data types for the school DataFrame.\n",
        "school_data_df.dtypes"
      ],
      "execution_count": null,
      "outputs": []
    },
    {
      "cell_type": "code",
      "metadata": {
        "id": "129zeGdbvEGX"
      },
      "source": [
        "# Determine data types for the student DataFrame.\n",
        "student_data_df.dtypes"
      ],
      "execution_count": null,
      "outputs": []
    },
    {
      "cell_type": "code",
      "metadata": {
        "id": "sDVfa4a4vD8x"
      },
      "source": [
        "# Add each prefix and suffix to remove to a list.\n",
        "prefixes_suffixes = [\"Dr. \", \"Mr. \",\"Ms. \", \"Mrs. \", \"Miss \", \" MD\", \" DDS\", \" DVM\", \" PhD\"]"
      ],
      "execution_count": 30,
      "outputs": []
    },
    {
      "cell_type": "code",
      "metadata": {
        "id": "rbgbkUj9vDvT",
        "colab": {
          "base_uri": "https://localhost:8080/",
          "height": 473
        },
        "outputId": "970d2829-2bfe-4d3f-fc49-13f326cfa9a3"
      },
      "source": [
        "# Iterate through the words in the \"prefixes_suffixes\" list and replace them with an empty space, \"\".\n",
        "for word in prefixes_suffixes:\n",
        "    student_data_df[\"student_name\"] = student_data_df[\"student_name\"].str.replace(word,\"\")\n",
        "student_data_df"
      ],
      "execution_count": 32,
      "outputs": [
        {
          "output_type": "stream",
          "name": "stderr",
          "text": [
            "C:\\Users\\lucya\\anaconda3\\envs\\python376\\lib\\site-packages\\ipykernel_launcher.py:3: FutureWarning: The default value of regex will change from True to False in a future version.\n",
            "  This is separate from the ipykernel package so we can avoid doing imports until\n"
          ]
        },
        {
          "output_type": "execute_result",
          "data": {
            "text/plain": [
              "       Student ID     student_name gender grade         school_name  \\\n",
              "0               0     Paul Bradley      M   9th   Huang High School   \n",
              "1               1     Victor Smith      M  12th   Huang High School   \n",
              "2               2  Kevin Rodriguez      M  12th   Huang High School   \n",
              "3               3    Richard Scott      M  12th   Huang High School   \n",
              "4               4       Bonnie Ray      F   9th   Huang High School   \n",
              "...           ...              ...    ...   ...                 ...   \n",
              "39165       39165     Donna Howard      F  12th  Thomas High School   \n",
              "39166       39166        Dawn Bell      F  10th  Thomas High School   \n",
              "39167       39167   Rebecca Tanner      F   9th  Thomas High School   \n",
              "39168       39168     Desiree Kidd      F  10th  Thomas High School   \n",
              "39169       39169  Carolyn Jackson      F  11th  Thomas High School   \n",
              "\n",
              "       reading_score  math_score  \n",
              "0                 66          79  \n",
              "1                 94          61  \n",
              "2                 90          60  \n",
              "3                 67          58  \n",
              "4                 97          84  \n",
              "...              ...         ...  \n",
              "39165             99          90  \n",
              "39166             95          70  \n",
              "39167             73          84  \n",
              "39168             99          90  \n",
              "39169             95          75  \n",
              "\n",
              "[39170 rows x 7 columns]"
            ],
            "text/html": [
              "<div>\n",
              "<style scoped>\n",
              "    .dataframe tbody tr th:only-of-type {\n",
              "        vertical-align: middle;\n",
              "    }\n",
              "\n",
              "    .dataframe tbody tr th {\n",
              "        vertical-align: top;\n",
              "    }\n",
              "\n",
              "    .dataframe thead th {\n",
              "        text-align: right;\n",
              "    }\n",
              "</style>\n",
              "<table border=\"1\" class=\"dataframe\">\n",
              "  <thead>\n",
              "    <tr style=\"text-align: right;\">\n",
              "      <th></th>\n",
              "      <th>Student ID</th>\n",
              "      <th>student_name</th>\n",
              "      <th>gender</th>\n",
              "      <th>grade</th>\n",
              "      <th>school_name</th>\n",
              "      <th>reading_score</th>\n",
              "      <th>math_score</th>\n",
              "    </tr>\n",
              "  </thead>\n",
              "  <tbody>\n",
              "    <tr>\n",
              "      <th>0</th>\n",
              "      <td>0</td>\n",
              "      <td>Paul Bradley</td>\n",
              "      <td>M</td>\n",
              "      <td>9th</td>\n",
              "      <td>Huang High School</td>\n",
              "      <td>66</td>\n",
              "      <td>79</td>\n",
              "    </tr>\n",
              "    <tr>\n",
              "      <th>1</th>\n",
              "      <td>1</td>\n",
              "      <td>Victor Smith</td>\n",
              "      <td>M</td>\n",
              "      <td>12th</td>\n",
              "      <td>Huang High School</td>\n",
              "      <td>94</td>\n",
              "      <td>61</td>\n",
              "    </tr>\n",
              "    <tr>\n",
              "      <th>2</th>\n",
              "      <td>2</td>\n",
              "      <td>Kevin Rodriguez</td>\n",
              "      <td>M</td>\n",
              "      <td>12th</td>\n",
              "      <td>Huang High School</td>\n",
              "      <td>90</td>\n",
              "      <td>60</td>\n",
              "    </tr>\n",
              "    <tr>\n",
              "      <th>3</th>\n",
              "      <td>3</td>\n",
              "      <td>Richard Scott</td>\n",
              "      <td>M</td>\n",
              "      <td>12th</td>\n",
              "      <td>Huang High School</td>\n",
              "      <td>67</td>\n",
              "      <td>58</td>\n",
              "    </tr>\n",
              "    <tr>\n",
              "      <th>4</th>\n",
              "      <td>4</td>\n",
              "      <td>Bonnie Ray</td>\n",
              "      <td>F</td>\n",
              "      <td>9th</td>\n",
              "      <td>Huang High School</td>\n",
              "      <td>97</td>\n",
              "      <td>84</td>\n",
              "    </tr>\n",
              "    <tr>\n",
              "      <th>...</th>\n",
              "      <td>...</td>\n",
              "      <td>...</td>\n",
              "      <td>...</td>\n",
              "      <td>...</td>\n",
              "      <td>...</td>\n",
              "      <td>...</td>\n",
              "      <td>...</td>\n",
              "    </tr>\n",
              "    <tr>\n",
              "      <th>39165</th>\n",
              "      <td>39165</td>\n",
              "      <td>Donna Howard</td>\n",
              "      <td>F</td>\n",
              "      <td>12th</td>\n",
              "      <td>Thomas High School</td>\n",
              "      <td>99</td>\n",
              "      <td>90</td>\n",
              "    </tr>\n",
              "    <tr>\n",
              "      <th>39166</th>\n",
              "      <td>39166</td>\n",
              "      <td>Dawn Bell</td>\n",
              "      <td>F</td>\n",
              "      <td>10th</td>\n",
              "      <td>Thomas High School</td>\n",
              "      <td>95</td>\n",
              "      <td>70</td>\n",
              "    </tr>\n",
              "    <tr>\n",
              "      <th>39167</th>\n",
              "      <td>39167</td>\n",
              "      <td>Rebecca Tanner</td>\n",
              "      <td>F</td>\n",
              "      <td>9th</td>\n",
              "      <td>Thomas High School</td>\n",
              "      <td>73</td>\n",
              "      <td>84</td>\n",
              "    </tr>\n",
              "    <tr>\n",
              "      <th>39168</th>\n",
              "      <td>39168</td>\n",
              "      <td>Desiree Kidd</td>\n",
              "      <td>F</td>\n",
              "      <td>10th</td>\n",
              "      <td>Thomas High School</td>\n",
              "      <td>99</td>\n",
              "      <td>90</td>\n",
              "    </tr>\n",
              "    <tr>\n",
              "      <th>39169</th>\n",
              "      <td>39169</td>\n",
              "      <td>Carolyn Jackson</td>\n",
              "      <td>F</td>\n",
              "      <td>11th</td>\n",
              "      <td>Thomas High School</td>\n",
              "      <td>95</td>\n",
              "      <td>75</td>\n",
              "    </tr>\n",
              "  </tbody>\n",
              "</table>\n",
              "<p>39170 rows × 7 columns</p>\n",
              "</div>"
            ]
          },
          "metadata": {},
          "execution_count": 32
        }
      ]
    }
  ]
}