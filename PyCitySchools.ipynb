{
  "nbformat": 4,
  "nbformat_minor": 0,
  "metadata": {
    "colab": {
      "name": "PyCitySchools.ipynb",
      "provenance": []
    },
    "kernelspec": {
      "name": "python3",
      "display_name": "Python 3"
    },
    "language_info": {
      "name": "python"
    }
  },
  "cells": [
    {
      "cell_type": "code",
      "metadata": {
        "id": "VqvfqIDguytI"
      },
      "source": [
        "# Add the dependencies.\n",
        "import pandas as pd\n",
        "import os\n"
      ],
      "execution_count": 2,
      "outputs": []
    },
    {
      "cell_type": "code",
      "metadata": {
        "colab": {
          "base_uri": "https://localhost:8080/"
        },
        "id": "qCWww2WhaAVI",
        "outputId": "e9c2aa7b-1c4f-421c-f5b0-8941350e5d86"
      },
      "source": [
        "os.chdir('c:\\\\Users\\\\lucya\\\\desktop\\\\School_District_Analysis')\n",
        "print(os.getcwd())"
      ],
      "execution_count": 3,
      "outputs": [
        {
          "output_type": "stream",
          "name": "stdout",
          "text": [
            "c:\\Users\\lucya\\desktop\\School_District_Analysis\n"
          ]
        }
      ]
    },
    {
      "cell_type": "code",
      "metadata": {
        "id": "5Jzq9mV6vAwh"
      },
      "source": [
        "# Files to load\n",
        "#school_data_to_load = \"Resources/schools_complete.csv\"\n",
        "#student_data_to_load = \"Resources/clean_students_complete.csv\"\n",
        "\n",
        "# Files to load\n",
        "school_data_to_load = os.path.join(\"Resources\", \"schools_complete.csv\")\n",
        "student_data_to_load = os.path.join(\"Resources\", \"students_complete.csv\")"
      ],
      "execution_count": 4,
      "outputs": []
    },
    {
      "cell_type": "code",
      "metadata": {
        "id": "rz7wR6acvEfj",
        "colab": {
          "base_uri": "https://localhost:8080/",
          "height": 204
        },
        "outputId": "6bc61930-847c-4ae6-a8f6-36dfbd5faa9a"
      },
      "source": [
        "# Read the school data file and store it in a Pandas DataFrame.\n",
        "school_data_df = pd.read_csv(school_data_to_load)\n",
        "school_data_df.head()"
      ],
      "execution_count": 5,
      "outputs": [
        {
          "output_type": "execute_result",
          "data": {
            "text/plain": [
              "   School ID            school_name      type  size   budget\n",
              "0          0      Huang High School  District  2917  1910635\n",
              "1          1   Figueroa High School  District  2949  1884411\n",
              "2          2    Shelton High School   Charter  1761  1056600\n",
              "3          3  Hernandez High School  District  4635  3022020\n",
              "4          4    Griffin High School   Charter  1468   917500"
            ],
            "text/html": [
              "<div>\n",
              "<style scoped>\n",
              "    .dataframe tbody tr th:only-of-type {\n",
              "        vertical-align: middle;\n",
              "    }\n",
              "\n",
              "    .dataframe tbody tr th {\n",
              "        vertical-align: top;\n",
              "    }\n",
              "\n",
              "    .dataframe thead th {\n",
              "        text-align: right;\n",
              "    }\n",
              "</style>\n",
              "<table border=\"1\" class=\"dataframe\">\n",
              "  <thead>\n",
              "    <tr style=\"text-align: right;\">\n",
              "      <th></th>\n",
              "      <th>School ID</th>\n",
              "      <th>school_name</th>\n",
              "      <th>type</th>\n",
              "      <th>size</th>\n",
              "      <th>budget</th>\n",
              "    </tr>\n",
              "  </thead>\n",
              "  <tbody>\n",
              "    <tr>\n",
              "      <th>0</th>\n",
              "      <td>0</td>\n",
              "      <td>Huang High School</td>\n",
              "      <td>District</td>\n",
              "      <td>2917</td>\n",
              "      <td>1910635</td>\n",
              "    </tr>\n",
              "    <tr>\n",
              "      <th>1</th>\n",
              "      <td>1</td>\n",
              "      <td>Figueroa High School</td>\n",
              "      <td>District</td>\n",
              "      <td>2949</td>\n",
              "      <td>1884411</td>\n",
              "    </tr>\n",
              "    <tr>\n",
              "      <th>2</th>\n",
              "      <td>2</td>\n",
              "      <td>Shelton High School</td>\n",
              "      <td>Charter</td>\n",
              "      <td>1761</td>\n",
              "      <td>1056600</td>\n",
              "    </tr>\n",
              "    <tr>\n",
              "      <th>3</th>\n",
              "      <td>3</td>\n",
              "      <td>Hernandez High School</td>\n",
              "      <td>District</td>\n",
              "      <td>4635</td>\n",
              "      <td>3022020</td>\n",
              "    </tr>\n",
              "    <tr>\n",
              "      <th>4</th>\n",
              "      <td>4</td>\n",
              "      <td>Griffin High School</td>\n",
              "      <td>Charter</td>\n",
              "      <td>1468</td>\n",
              "      <td>917500</td>\n",
              "    </tr>\n",
              "  </tbody>\n",
              "</table>\n",
              "</div>"
            ]
          },
          "metadata": {},
          "execution_count": 5
        }
      ]
    },
    {
      "cell_type": "code",
      "metadata": {
        "id": "xy39XqB8vEc2",
        "colab": {
          "base_uri": "https://localhost:8080/",
          "height": 204
        },
        "outputId": "dbec8352-7b95-4ee0-a068-d50e3c585fed"
      },
      "source": [
        "# Read the student data file and store it in a Pandas DataFrame.\n",
        "student_data_df = pd.read_csv(student_data_to_load)\n",
        "student_data_df.head()"
      ],
      "execution_count": 6,
      "outputs": [
        {
          "output_type": "execute_result",
          "data": {
            "text/plain": [
              "   Student ID       student_name gender grade        school_name  \\\n",
              "0           0       Paul Bradley      M   9th  Huang High School   \n",
              "1           1       Victor Smith      M  12th  Huang High School   \n",
              "2           2    Kevin Rodriguez      M  12th  Huang High School   \n",
              "3           3  Dr. Richard Scott      M  12th  Huang High School   \n",
              "4           4         Bonnie Ray      F   9th  Huang High School   \n",
              "\n",
              "   reading_score  math_score  \n",
              "0             66          79  \n",
              "1             94          61  \n",
              "2             90          60  \n",
              "3             67          58  \n",
              "4             97          84  "
            ],
            "text/html": [
              "<div>\n",
              "<style scoped>\n",
              "    .dataframe tbody tr th:only-of-type {\n",
              "        vertical-align: middle;\n",
              "    }\n",
              "\n",
              "    .dataframe tbody tr th {\n",
              "        vertical-align: top;\n",
              "    }\n",
              "\n",
              "    .dataframe thead th {\n",
              "        text-align: right;\n",
              "    }\n",
              "</style>\n",
              "<table border=\"1\" class=\"dataframe\">\n",
              "  <thead>\n",
              "    <tr style=\"text-align: right;\">\n",
              "      <th></th>\n",
              "      <th>Student ID</th>\n",
              "      <th>student_name</th>\n",
              "      <th>gender</th>\n",
              "      <th>grade</th>\n",
              "      <th>school_name</th>\n",
              "      <th>reading_score</th>\n",
              "      <th>math_score</th>\n",
              "    </tr>\n",
              "  </thead>\n",
              "  <tbody>\n",
              "    <tr>\n",
              "      <th>0</th>\n",
              "      <td>0</td>\n",
              "      <td>Paul Bradley</td>\n",
              "      <td>M</td>\n",
              "      <td>9th</td>\n",
              "      <td>Huang High School</td>\n",
              "      <td>66</td>\n",
              "      <td>79</td>\n",
              "    </tr>\n",
              "    <tr>\n",
              "      <th>1</th>\n",
              "      <td>1</td>\n",
              "      <td>Victor Smith</td>\n",
              "      <td>M</td>\n",
              "      <td>12th</td>\n",
              "      <td>Huang High School</td>\n",
              "      <td>94</td>\n",
              "      <td>61</td>\n",
              "    </tr>\n",
              "    <tr>\n",
              "      <th>2</th>\n",
              "      <td>2</td>\n",
              "      <td>Kevin Rodriguez</td>\n",
              "      <td>M</td>\n",
              "      <td>12th</td>\n",
              "      <td>Huang High School</td>\n",
              "      <td>90</td>\n",
              "      <td>60</td>\n",
              "    </tr>\n",
              "    <tr>\n",
              "      <th>3</th>\n",
              "      <td>3</td>\n",
              "      <td>Dr. Richard Scott</td>\n",
              "      <td>M</td>\n",
              "      <td>12th</td>\n",
              "      <td>Huang High School</td>\n",
              "      <td>67</td>\n",
              "      <td>58</td>\n",
              "    </tr>\n",
              "    <tr>\n",
              "      <th>4</th>\n",
              "      <td>4</td>\n",
              "      <td>Bonnie Ray</td>\n",
              "      <td>F</td>\n",
              "      <td>9th</td>\n",
              "      <td>Huang High School</td>\n",
              "      <td>97</td>\n",
              "      <td>84</td>\n",
              "    </tr>\n",
              "  </tbody>\n",
              "</table>\n",
              "</div>"
            ]
          },
          "metadata": {},
          "execution_count": 6
        }
      ]
    },
    {
      "cell_type": "code",
      "metadata": {
        "id": "bZSKlNHYvEVJ"
      },
      "source": [
        "# Determine if there are any missing values in the school data.\n",
        "school_data_df.count()"
      ],
      "execution_count": null,
      "outputs": []
    },
    {
      "cell_type": "code",
      "metadata": {
        "id": "k6p_sZMCvESz"
      },
      "source": [
        "# Determine if there are any missing values in the student data.\n",
        "student_data_df.count()"
      ],
      "execution_count": null,
      "outputs": []
    },
    {
      "cell_type": "code",
      "metadata": {
        "id": "cPbI_kjXvEQf"
      },
      "source": [
        "# Determine if there are any missing values in the school data.\n",
        "school_data_df.isnull()"
      ],
      "execution_count": null,
      "outputs": []
    },
    {
      "cell_type": "code",
      "metadata": {
        "id": "sJtMEA5nvEN9"
      },
      "source": [
        "# Determine if there are any missing values in the student data.\n",
        "student_data_df.isnull()"
      ],
      "execution_count": null,
      "outputs": []
    },
    {
      "cell_type": "code",
      "metadata": {
        "id": "QIt0_IZDvELm"
      },
      "source": [
        "student_data_df.isnull().sum()"
      ],
      "execution_count": null,
      "outputs": []
    },
    {
      "cell_type": "code",
      "metadata": {
        "id": "rRh7mvsmvEI7"
      },
      "source": [
        "# Determine data types for the school DataFrame.\n",
        "school_data_df.dtypes"
      ],
      "execution_count": null,
      "outputs": []
    },
    {
      "cell_type": "code",
      "metadata": {
        "id": "129zeGdbvEGX"
      },
      "source": [
        "# Determine data types for the student DataFrame.\n",
        "student_data_df.dtypes"
      ],
      "execution_count": null,
      "outputs": []
    },
    {
      "cell_type": "code",
      "metadata": {
        "id": "sDVfa4a4vD8x"
      },
      "source": [
        "# Add each prefix and suffix to remove to a list.\n",
        "prefixes_suffixes = [\"Dr. \", \"Mr. \",\"Ms. \", \"Mrs. \", \"Miss \", \" MD\", \" DDS\", \" DVM\", \" PhD\"]"
      ],
      "execution_count": 7,
      "outputs": []
    },
    {
      "cell_type": "code",
      "metadata": {
        "id": "rbgbkUj9vDvT",
        "colab": {
          "base_uri": "https://localhost:8080/",
          "height": 473
        },
        "outputId": "f8bf0e34-1f90-453b-ecd4-1e2e01b0d94d"
      },
      "source": [
        "# Iterate through the words in the \"prefixes_suffixes\" list and replace them with an empty space, \"\".\n",
        "for word in prefixes_suffixes:\n",
        "    student_data_df[\"student_name\"] = student_data_df[\"student_name\"].str.replace(word,\"\")\n",
        "student_data_df"
      ],
      "execution_count": 8,
      "outputs": [
        {
          "output_type": "stream",
          "name": "stderr",
          "text": [
            "C:\\Users\\lucya\\anaconda3\\envs\\PythonData\\lib\\site-packages\\ipykernel_launcher.py:3: FutureWarning: The default value of regex will change from True to False in a future version.\n",
            "  This is separate from the ipykernel package so we can avoid doing imports until\n"
          ]
        },
        {
          "output_type": "execute_result",
          "data": {
            "text/plain": [
              "       Student ID     student_name gender grade         school_name  \\\n",
              "0               0     Paul Bradley      M   9th   Huang High School   \n",
              "1               1     Victor Smith      M  12th   Huang High School   \n",
              "2               2  Kevin Rodriguez      M  12th   Huang High School   \n",
              "3               3    Richard Scott      M  12th   Huang High School   \n",
              "4               4       Bonnie Ray      F   9th   Huang High School   \n",
              "...           ...              ...    ...   ...                 ...   \n",
              "39165       39165     Donna Howard      F  12th  Thomas High School   \n",
              "39166       39166        Dawn Bell      F  10th  Thomas High School   \n",
              "39167       39167   Rebecca Tanner      F   9th  Thomas High School   \n",
              "39168       39168     Desiree Kidd      F  10th  Thomas High School   \n",
              "39169       39169  Carolyn Jackson      F  11th  Thomas High School   \n",
              "\n",
              "       reading_score  math_score  \n",
              "0                 66          79  \n",
              "1                 94          61  \n",
              "2                 90          60  \n",
              "3                 67          58  \n",
              "4                 97          84  \n",
              "...              ...         ...  \n",
              "39165             99          90  \n",
              "39166             95          70  \n",
              "39167             73          84  \n",
              "39168             99          90  \n",
              "39169             95          75  \n",
              "\n",
              "[39170 rows x 7 columns]"
            ],
            "text/html": [
              "<div>\n",
              "<style scoped>\n",
              "    .dataframe tbody tr th:only-of-type {\n",
              "        vertical-align: middle;\n",
              "    }\n",
              "\n",
              "    .dataframe tbody tr th {\n",
              "        vertical-align: top;\n",
              "    }\n",
              "\n",
              "    .dataframe thead th {\n",
              "        text-align: right;\n",
              "    }\n",
              "</style>\n",
              "<table border=\"1\" class=\"dataframe\">\n",
              "  <thead>\n",
              "    <tr style=\"text-align: right;\">\n",
              "      <th></th>\n",
              "      <th>Student ID</th>\n",
              "      <th>student_name</th>\n",
              "      <th>gender</th>\n",
              "      <th>grade</th>\n",
              "      <th>school_name</th>\n",
              "      <th>reading_score</th>\n",
              "      <th>math_score</th>\n",
              "    </tr>\n",
              "  </thead>\n",
              "  <tbody>\n",
              "    <tr>\n",
              "      <th>0</th>\n",
              "      <td>0</td>\n",
              "      <td>Paul Bradley</td>\n",
              "      <td>M</td>\n",
              "      <td>9th</td>\n",
              "      <td>Huang High School</td>\n",
              "      <td>66</td>\n",
              "      <td>79</td>\n",
              "    </tr>\n",
              "    <tr>\n",
              "      <th>1</th>\n",
              "      <td>1</td>\n",
              "      <td>Victor Smith</td>\n",
              "      <td>M</td>\n",
              "      <td>12th</td>\n",
              "      <td>Huang High School</td>\n",
              "      <td>94</td>\n",
              "      <td>61</td>\n",
              "    </tr>\n",
              "    <tr>\n",
              "      <th>2</th>\n",
              "      <td>2</td>\n",
              "      <td>Kevin Rodriguez</td>\n",
              "      <td>M</td>\n",
              "      <td>12th</td>\n",
              "      <td>Huang High School</td>\n",
              "      <td>90</td>\n",
              "      <td>60</td>\n",
              "    </tr>\n",
              "    <tr>\n",
              "      <th>3</th>\n",
              "      <td>3</td>\n",
              "      <td>Richard Scott</td>\n",
              "      <td>M</td>\n",
              "      <td>12th</td>\n",
              "      <td>Huang High School</td>\n",
              "      <td>67</td>\n",
              "      <td>58</td>\n",
              "    </tr>\n",
              "    <tr>\n",
              "      <th>4</th>\n",
              "      <td>4</td>\n",
              "      <td>Bonnie Ray</td>\n",
              "      <td>F</td>\n",
              "      <td>9th</td>\n",
              "      <td>Huang High School</td>\n",
              "      <td>97</td>\n",
              "      <td>84</td>\n",
              "    </tr>\n",
              "    <tr>\n",
              "      <th>...</th>\n",
              "      <td>...</td>\n",
              "      <td>...</td>\n",
              "      <td>...</td>\n",
              "      <td>...</td>\n",
              "      <td>...</td>\n",
              "      <td>...</td>\n",
              "      <td>...</td>\n",
              "    </tr>\n",
              "    <tr>\n",
              "      <th>39165</th>\n",
              "      <td>39165</td>\n",
              "      <td>Donna Howard</td>\n",
              "      <td>F</td>\n",
              "      <td>12th</td>\n",
              "      <td>Thomas High School</td>\n",
              "      <td>99</td>\n",
              "      <td>90</td>\n",
              "    </tr>\n",
              "    <tr>\n",
              "      <th>39166</th>\n",
              "      <td>39166</td>\n",
              "      <td>Dawn Bell</td>\n",
              "      <td>F</td>\n",
              "      <td>10th</td>\n",
              "      <td>Thomas High School</td>\n",
              "      <td>95</td>\n",
              "      <td>70</td>\n",
              "    </tr>\n",
              "    <tr>\n",
              "      <th>39167</th>\n",
              "      <td>39167</td>\n",
              "      <td>Rebecca Tanner</td>\n",
              "      <td>F</td>\n",
              "      <td>9th</td>\n",
              "      <td>Thomas High School</td>\n",
              "      <td>73</td>\n",
              "      <td>84</td>\n",
              "    </tr>\n",
              "    <tr>\n",
              "      <th>39168</th>\n",
              "      <td>39168</td>\n",
              "      <td>Desiree Kidd</td>\n",
              "      <td>F</td>\n",
              "      <td>10th</td>\n",
              "      <td>Thomas High School</td>\n",
              "      <td>99</td>\n",
              "      <td>90</td>\n",
              "    </tr>\n",
              "    <tr>\n",
              "      <th>39169</th>\n",
              "      <td>39169</td>\n",
              "      <td>Carolyn Jackson</td>\n",
              "      <td>F</td>\n",
              "      <td>11th</td>\n",
              "      <td>Thomas High School</td>\n",
              "      <td>95</td>\n",
              "      <td>75</td>\n",
              "    </tr>\n",
              "  </tbody>\n",
              "</table>\n",
              "<p>39170 rows × 7 columns</p>\n",
              "</div>"
            ]
          },
          "metadata": {},
          "execution_count": 8
        }
      ]
    },
    {
      "cell_type": "code",
      "metadata": {
        "colab": {
          "base_uri": "https://localhost:8080/",
          "height": 606
        },
        "id": "zxGQVTcoKVBc",
        "outputId": "73b09c12-6420-4abe-88df-3f5a20cfc527"
      },
      "source": [
        "student_data_to_load = os.path.join(\"Resources\", \"clean_students_complete.csv\")\n",
        "student_data_df = pd.read_csv(student_data_to_load)\n",
        "student_data_df"
      ],
      "execution_count": 9,
      "outputs": [
        {
          "output_type": "execute_result",
          "data": {
            "text/plain": [
              "       Unnamed: 0  Student ID     student_name gender grade  \\\n",
              "0               0           0     Paul Bradley      M   9th   \n",
              "1               1           1     Victor Smith      M  12th   \n",
              "2               2           2  Kevin Rodriguez      M  12th   \n",
              "3               3           3    Richard Scott      M  12th   \n",
              "4               4           4       Bonnie Ray      F   9th   \n",
              "...           ...         ...              ...    ...   ...   \n",
              "39165       39165       39165     Donna Howard      F  12th   \n",
              "39166       39166       39166        Dawn Bell      F  10th   \n",
              "39167       39167       39167   Rebecca Tanner      F   9th   \n",
              "39168       39168       39168     Desiree Kidd      F  10th   \n",
              "39169       39169       39169  Carolyn Jackson      F  11th   \n",
              "\n",
              "              school_name  reading_score  math_score  \n",
              "0       Huang High School             66          79  \n",
              "1       Huang High School             94          61  \n",
              "2       Huang High School             90          60  \n",
              "3       Huang High School             67          58  \n",
              "4       Huang High School             97          84  \n",
              "...                   ...            ...         ...  \n",
              "39165  Thomas High School             99          90  \n",
              "39166  Thomas High School             95          70  \n",
              "39167  Thomas High School             73          84  \n",
              "39168  Thomas High School             99          90  \n",
              "39169  Thomas High School             95          75  \n",
              "\n",
              "[39170 rows x 8 columns]"
            ],
            "text/html": [
              "<div>\n",
              "<style scoped>\n",
              "    .dataframe tbody tr th:only-of-type {\n",
              "        vertical-align: middle;\n",
              "    }\n",
              "\n",
              "    .dataframe tbody tr th {\n",
              "        vertical-align: top;\n",
              "    }\n",
              "\n",
              "    .dataframe thead th {\n",
              "        text-align: right;\n",
              "    }\n",
              "</style>\n",
              "<table border=\"1\" class=\"dataframe\">\n",
              "  <thead>\n",
              "    <tr style=\"text-align: right;\">\n",
              "      <th></th>\n",
              "      <th>Unnamed: 0</th>\n",
              "      <th>Student ID</th>\n",
              "      <th>student_name</th>\n",
              "      <th>gender</th>\n",
              "      <th>grade</th>\n",
              "      <th>school_name</th>\n",
              "      <th>reading_score</th>\n",
              "      <th>math_score</th>\n",
              "    </tr>\n",
              "  </thead>\n",
              "  <tbody>\n",
              "    <tr>\n",
              "      <th>0</th>\n",
              "      <td>0</td>\n",
              "      <td>0</td>\n",
              "      <td>Paul Bradley</td>\n",
              "      <td>M</td>\n",
              "      <td>9th</td>\n",
              "      <td>Huang High School</td>\n",
              "      <td>66</td>\n",
              "      <td>79</td>\n",
              "    </tr>\n",
              "    <tr>\n",
              "      <th>1</th>\n",
              "      <td>1</td>\n",
              "      <td>1</td>\n",
              "      <td>Victor Smith</td>\n",
              "      <td>M</td>\n",
              "      <td>12th</td>\n",
              "      <td>Huang High School</td>\n",
              "      <td>94</td>\n",
              "      <td>61</td>\n",
              "    </tr>\n",
              "    <tr>\n",
              "      <th>2</th>\n",
              "      <td>2</td>\n",
              "      <td>2</td>\n",
              "      <td>Kevin Rodriguez</td>\n",
              "      <td>M</td>\n",
              "      <td>12th</td>\n",
              "      <td>Huang High School</td>\n",
              "      <td>90</td>\n",
              "      <td>60</td>\n",
              "    </tr>\n",
              "    <tr>\n",
              "      <th>3</th>\n",
              "      <td>3</td>\n",
              "      <td>3</td>\n",
              "      <td>Richard Scott</td>\n",
              "      <td>M</td>\n",
              "      <td>12th</td>\n",
              "      <td>Huang High School</td>\n",
              "      <td>67</td>\n",
              "      <td>58</td>\n",
              "    </tr>\n",
              "    <tr>\n",
              "      <th>4</th>\n",
              "      <td>4</td>\n",
              "      <td>4</td>\n",
              "      <td>Bonnie Ray</td>\n",
              "      <td>F</td>\n",
              "      <td>9th</td>\n",
              "      <td>Huang High School</td>\n",
              "      <td>97</td>\n",
              "      <td>84</td>\n",
              "    </tr>\n",
              "    <tr>\n",
              "      <th>...</th>\n",
              "      <td>...</td>\n",
              "      <td>...</td>\n",
              "      <td>...</td>\n",
              "      <td>...</td>\n",
              "      <td>...</td>\n",
              "      <td>...</td>\n",
              "      <td>...</td>\n",
              "      <td>...</td>\n",
              "    </tr>\n",
              "    <tr>\n",
              "      <th>39165</th>\n",
              "      <td>39165</td>\n",
              "      <td>39165</td>\n",
              "      <td>Donna Howard</td>\n",
              "      <td>F</td>\n",
              "      <td>12th</td>\n",
              "      <td>Thomas High School</td>\n",
              "      <td>99</td>\n",
              "      <td>90</td>\n",
              "    </tr>\n",
              "    <tr>\n",
              "      <th>39166</th>\n",
              "      <td>39166</td>\n",
              "      <td>39166</td>\n",
              "      <td>Dawn Bell</td>\n",
              "      <td>F</td>\n",
              "      <td>10th</td>\n",
              "      <td>Thomas High School</td>\n",
              "      <td>95</td>\n",
              "      <td>70</td>\n",
              "    </tr>\n",
              "    <tr>\n",
              "      <th>39167</th>\n",
              "      <td>39167</td>\n",
              "      <td>39167</td>\n",
              "      <td>Rebecca Tanner</td>\n",
              "      <td>F</td>\n",
              "      <td>9th</td>\n",
              "      <td>Thomas High School</td>\n",
              "      <td>73</td>\n",
              "      <td>84</td>\n",
              "    </tr>\n",
              "    <tr>\n",
              "      <th>39168</th>\n",
              "      <td>39168</td>\n",
              "      <td>39168</td>\n",
              "      <td>Desiree Kidd</td>\n",
              "      <td>F</td>\n",
              "      <td>10th</td>\n",
              "      <td>Thomas High School</td>\n",
              "      <td>99</td>\n",
              "      <td>90</td>\n",
              "    </tr>\n",
              "    <tr>\n",
              "      <th>39169</th>\n",
              "      <td>39169</td>\n",
              "      <td>39169</td>\n",
              "      <td>Carolyn Jackson</td>\n",
              "      <td>F</td>\n",
              "      <td>11th</td>\n",
              "      <td>Thomas High School</td>\n",
              "      <td>95</td>\n",
              "      <td>75</td>\n",
              "    </tr>\n",
              "  </tbody>\n",
              "</table>\n",
              "<p>39170 rows × 8 columns</p>\n",
              "</div>"
            ]
          },
          "metadata": {},
          "execution_count": 9
        }
      ]
    },
    {
      "cell_type": "code",
      "metadata": {
        "colab": {
          "base_uri": "https://localhost:8080/",
          "height": 326
        },
        "id": "vycCF7L7LJB_",
        "outputId": "0eda2ed3-2212-4bce-869a-75f28a52f883"
      },
      "source": [
        "# Combine the data into a single dataset.\n",
        "school_data_complete_df = pd.merge(student_data_df, school_data_df, on=[\"school_name\", \"school_name\"])\n",
        "school_data_complete_df.head()"
      ],
      "execution_count": 10,
      "outputs": [
        {
          "output_type": "execute_result",
          "data": {
            "text/plain": [
              "   Unnamed: 0  Student ID     student_name gender grade        school_name  \\\n",
              "0           0           0     Paul Bradley      M   9th  Huang High School   \n",
              "1           1           1     Victor Smith      M  12th  Huang High School   \n",
              "2           2           2  Kevin Rodriguez      M  12th  Huang High School   \n",
              "3           3           3    Richard Scott      M  12th  Huang High School   \n",
              "4           4           4       Bonnie Ray      F   9th  Huang High School   \n",
              "\n",
              "   reading_score  math_score  School ID      type  size   budget  \n",
              "0             66          79          0  District  2917  1910635  \n",
              "1             94          61          0  District  2917  1910635  \n",
              "2             90          60          0  District  2917  1910635  \n",
              "3             67          58          0  District  2917  1910635  \n",
              "4             97          84          0  District  2917  1910635  "
            ],
            "text/html": [
              "<div>\n",
              "<style scoped>\n",
              "    .dataframe tbody tr th:only-of-type {\n",
              "        vertical-align: middle;\n",
              "    }\n",
              "\n",
              "    .dataframe tbody tr th {\n",
              "        vertical-align: top;\n",
              "    }\n",
              "\n",
              "    .dataframe thead th {\n",
              "        text-align: right;\n",
              "    }\n",
              "</style>\n",
              "<table border=\"1\" class=\"dataframe\">\n",
              "  <thead>\n",
              "    <tr style=\"text-align: right;\">\n",
              "      <th></th>\n",
              "      <th>Unnamed: 0</th>\n",
              "      <th>Student ID</th>\n",
              "      <th>student_name</th>\n",
              "      <th>gender</th>\n",
              "      <th>grade</th>\n",
              "      <th>school_name</th>\n",
              "      <th>reading_score</th>\n",
              "      <th>math_score</th>\n",
              "      <th>School ID</th>\n",
              "      <th>type</th>\n",
              "      <th>size</th>\n",
              "      <th>budget</th>\n",
              "    </tr>\n",
              "  </thead>\n",
              "  <tbody>\n",
              "    <tr>\n",
              "      <th>0</th>\n",
              "      <td>0</td>\n",
              "      <td>0</td>\n",
              "      <td>Paul Bradley</td>\n",
              "      <td>M</td>\n",
              "      <td>9th</td>\n",
              "      <td>Huang High School</td>\n",
              "      <td>66</td>\n",
              "      <td>79</td>\n",
              "      <td>0</td>\n",
              "      <td>District</td>\n",
              "      <td>2917</td>\n",
              "      <td>1910635</td>\n",
              "    </tr>\n",
              "    <tr>\n",
              "      <th>1</th>\n",
              "      <td>1</td>\n",
              "      <td>1</td>\n",
              "      <td>Victor Smith</td>\n",
              "      <td>M</td>\n",
              "      <td>12th</td>\n",
              "      <td>Huang High School</td>\n",
              "      <td>94</td>\n",
              "      <td>61</td>\n",
              "      <td>0</td>\n",
              "      <td>District</td>\n",
              "      <td>2917</td>\n",
              "      <td>1910635</td>\n",
              "    </tr>\n",
              "    <tr>\n",
              "      <th>2</th>\n",
              "      <td>2</td>\n",
              "      <td>2</td>\n",
              "      <td>Kevin Rodriguez</td>\n",
              "      <td>M</td>\n",
              "      <td>12th</td>\n",
              "      <td>Huang High School</td>\n",
              "      <td>90</td>\n",
              "      <td>60</td>\n",
              "      <td>0</td>\n",
              "      <td>District</td>\n",
              "      <td>2917</td>\n",
              "      <td>1910635</td>\n",
              "    </tr>\n",
              "    <tr>\n",
              "      <th>3</th>\n",
              "      <td>3</td>\n",
              "      <td>3</td>\n",
              "      <td>Richard Scott</td>\n",
              "      <td>M</td>\n",
              "      <td>12th</td>\n",
              "      <td>Huang High School</td>\n",
              "      <td>67</td>\n",
              "      <td>58</td>\n",
              "      <td>0</td>\n",
              "      <td>District</td>\n",
              "      <td>2917</td>\n",
              "      <td>1910635</td>\n",
              "    </tr>\n",
              "    <tr>\n",
              "      <th>4</th>\n",
              "      <td>4</td>\n",
              "      <td>4</td>\n",
              "      <td>Bonnie Ray</td>\n",
              "      <td>F</td>\n",
              "      <td>9th</td>\n",
              "      <td>Huang High School</td>\n",
              "      <td>97</td>\n",
              "      <td>84</td>\n",
              "      <td>0</td>\n",
              "      <td>District</td>\n",
              "      <td>2917</td>\n",
              "      <td>1910635</td>\n",
              "    </tr>\n",
              "  </tbody>\n",
              "</table>\n",
              "</div>"
            ]
          },
          "metadata": {},
          "execution_count": 10
        }
      ]
    },
    {
      "cell_type": "code",
      "metadata": {
        "colab": {
          "base_uri": "https://localhost:8080/"
        },
        "id": "gptF00ysMSMe",
        "outputId": "82d6e643-aeb6-4eb5-8fa7-488d003b72e1"
      },
      "source": [
        "# Get the total number of students.\n",
        "student_count = school_data_complete_df[\"Student ID\"].unique() \n",
        "student_count = len(student_count)\n",
        "student_count"
      ],
      "execution_count": 38,
      "outputs": [
        {
          "output_type": "execute_result",
          "data": {
            "text/plain": [
              "39170"
            ]
          },
          "metadata": {},
          "execution_count": 38
        }
      ]
    },
    {
      "cell_type": "code",
      "metadata": {
        "colab": {
          "base_uri": "https://localhost:8080/"
        },
        "id": "SQBg5y0lMpCs",
        "outputId": "548be88f-be24-45d9-88e6-00eb4a096100"
      },
      "source": [
        "# Calculate the total number of schools\n",
        "school_count = school_data_complete_df[\"school_name\"].unique()\n",
        "school_count = len(school_count)\n",
        "school_count"
      ],
      "execution_count": 39,
      "outputs": [
        {
          "output_type": "execute_result",
          "data": {
            "text/plain": [
              "15"
            ]
          },
          "metadata": {},
          "execution_count": 39
        }
      ]
    },
    {
      "cell_type": "code",
      "metadata": {
        "colab": {
          "base_uri": "https://localhost:8080/"
        },
        "id": "4FFltKmyOT_w",
        "outputId": "8dd017c9-ee5a-4440-86b7-7f7ea3105855"
      },
      "source": [
        "# Calculate the total budget.\n",
        "total_budget = school_data_df[\"budget\"].sum()\n",
        "total_budget"
      ],
      "execution_count": 18,
      "outputs": [
        {
          "output_type": "execute_result",
          "data": {
            "text/plain": [
              "24649428"
            ]
          },
          "metadata": {},
          "execution_count": 18
        }
      ]
    },
    {
      "cell_type": "code",
      "metadata": {
        "colab": {
          "base_uri": "https://localhost:8080/"
        },
        "id": "CJdP7qT0OuCl",
        "outputId": "60b46135-df83-4959-ef4a-90f3f95f74a8"
      },
      "source": [
        "# Calculate the average reading score.\n",
        "average_reading_score = school_data_complete_df[\"reading_score\"].mean()\n",
        "average_reading_score"
      ],
      "execution_count": 19,
      "outputs": [
        {
          "output_type": "execute_result",
          "data": {
            "text/plain": [
              "81.87784018381414"
            ]
          },
          "metadata": {},
          "execution_count": 19
        }
      ]
    },
    {
      "cell_type": "code",
      "metadata": {
        "colab": {
          "base_uri": "https://localhost:8080/"
        },
        "id": "J53B-0SgO4cG",
        "outputId": "f5d5b0d3-0be4-432e-aaa0-adc49cf840a9"
      },
      "source": [
        "# Calculate the average math score.\n",
        "average_math_score = school_data_complete_df[\"math_score\"].mean()\n",
        "average_math_score"
      ],
      "execution_count": 20,
      "outputs": [
        {
          "output_type": "execute_result",
          "data": {
            "text/plain": [
              "78.98537145774827"
            ]
          },
          "metadata": {},
          "execution_count": 20
        }
      ]
    },
    {
      "cell_type": "code",
      "metadata": {
        "colab": {
          "base_uri": "https://localhost:8080/",
          "height": 326
        },
        "id": "otLD_fyAO_XX",
        "outputId": "d8a953c7-d20e-477b-abfd-b33c2dc539e3"
      },
      "source": [
        "passing_math = school_data_complete_df[\"math_score\"] >= 70\n",
        "passing_reading = school_data_complete_df[\"reading_score\"] >= 70\n",
        "\n",
        "# Get all the students who are passing math in a new DataFrame.\n",
        "passing_math = school_data_complete_df[school_data_complete_df[\"math_score\"] >= 70]\n",
        "passing_math.head()"
      ],
      "execution_count": 11,
      "outputs": [
        {
          "output_type": "execute_result",
          "data": {
            "text/plain": [
              "   Unnamed: 0  Student ID   student_name gender grade        school_name  \\\n",
              "0           0           0   Paul Bradley      M   9th  Huang High School   \n",
              "4           4           4     Bonnie Ray      F   9th  Huang High School   \n",
              "5           5           5  Bryan Miranda      M   9th  Huang High School   \n",
              "6           6           6  Sheena Carter      F  11th  Huang High School   \n",
              "8           8           8   Michael Roth      M  10th  Huang High School   \n",
              "\n",
              "   reading_score  math_score  School ID      type  size   budget  \n",
              "0             66          79          0  District  2917  1910635  \n",
              "4             97          84          0  District  2917  1910635  \n",
              "5             94          94          0  District  2917  1910635  \n",
              "6             82          80          0  District  2917  1910635  \n",
              "8             95          87          0  District  2917  1910635  "
            ],
            "text/html": [
              "<div>\n",
              "<style scoped>\n",
              "    .dataframe tbody tr th:only-of-type {\n",
              "        vertical-align: middle;\n",
              "    }\n",
              "\n",
              "    .dataframe tbody tr th {\n",
              "        vertical-align: top;\n",
              "    }\n",
              "\n",
              "    .dataframe thead th {\n",
              "        text-align: right;\n",
              "    }\n",
              "</style>\n",
              "<table border=\"1\" class=\"dataframe\">\n",
              "  <thead>\n",
              "    <tr style=\"text-align: right;\">\n",
              "      <th></th>\n",
              "      <th>Unnamed: 0</th>\n",
              "      <th>Student ID</th>\n",
              "      <th>student_name</th>\n",
              "      <th>gender</th>\n",
              "      <th>grade</th>\n",
              "      <th>school_name</th>\n",
              "      <th>reading_score</th>\n",
              "      <th>math_score</th>\n",
              "      <th>School ID</th>\n",
              "      <th>type</th>\n",
              "      <th>size</th>\n",
              "      <th>budget</th>\n",
              "    </tr>\n",
              "  </thead>\n",
              "  <tbody>\n",
              "    <tr>\n",
              "      <th>0</th>\n",
              "      <td>0</td>\n",
              "      <td>0</td>\n",
              "      <td>Paul Bradley</td>\n",
              "      <td>M</td>\n",
              "      <td>9th</td>\n",
              "      <td>Huang High School</td>\n",
              "      <td>66</td>\n",
              "      <td>79</td>\n",
              "      <td>0</td>\n",
              "      <td>District</td>\n",
              "      <td>2917</td>\n",
              "      <td>1910635</td>\n",
              "    </tr>\n",
              "    <tr>\n",
              "      <th>4</th>\n",
              "      <td>4</td>\n",
              "      <td>4</td>\n",
              "      <td>Bonnie Ray</td>\n",
              "      <td>F</td>\n",
              "      <td>9th</td>\n",
              "      <td>Huang High School</td>\n",
              "      <td>97</td>\n",
              "      <td>84</td>\n",
              "      <td>0</td>\n",
              "      <td>District</td>\n",
              "      <td>2917</td>\n",
              "      <td>1910635</td>\n",
              "    </tr>\n",
              "    <tr>\n",
              "      <th>5</th>\n",
              "      <td>5</td>\n",
              "      <td>5</td>\n",
              "      <td>Bryan Miranda</td>\n",
              "      <td>M</td>\n",
              "      <td>9th</td>\n",
              "      <td>Huang High School</td>\n",
              "      <td>94</td>\n",
              "      <td>94</td>\n",
              "      <td>0</td>\n",
              "      <td>District</td>\n",
              "      <td>2917</td>\n",
              "      <td>1910635</td>\n",
              "    </tr>\n",
              "    <tr>\n",
              "      <th>6</th>\n",
              "      <td>6</td>\n",
              "      <td>6</td>\n",
              "      <td>Sheena Carter</td>\n",
              "      <td>F</td>\n",
              "      <td>11th</td>\n",
              "      <td>Huang High School</td>\n",
              "      <td>82</td>\n",
              "      <td>80</td>\n",
              "      <td>0</td>\n",
              "      <td>District</td>\n",
              "      <td>2917</td>\n",
              "      <td>1910635</td>\n",
              "    </tr>\n",
              "    <tr>\n",
              "      <th>8</th>\n",
              "      <td>8</td>\n",
              "      <td>8</td>\n",
              "      <td>Michael Roth</td>\n",
              "      <td>M</td>\n",
              "      <td>10th</td>\n",
              "      <td>Huang High School</td>\n",
              "      <td>95</td>\n",
              "      <td>87</td>\n",
              "      <td>0</td>\n",
              "      <td>District</td>\n",
              "      <td>2917</td>\n",
              "      <td>1910635</td>\n",
              "    </tr>\n",
              "  </tbody>\n",
              "</table>\n",
              "</div>"
            ]
          },
          "metadata": {},
          "execution_count": 11
        }
      ]
    },
    {
      "cell_type": "code",
      "metadata": {
        "id": "Rg7YtZxztNaU"
      },
      "source": [
        "# Get all the students that are passing reading in a new DataFrame.\n",
        "passing_reading = school_data_complete_df[school_data_complete_df[\"reading_score\"] >= 70]\n"
      ],
      "execution_count": 12,
      "outputs": []
    },
    {
      "cell_type": "code",
      "metadata": {
        "colab": {
          "base_uri": "https://localhost:8080/"
        },
        "id": "QSrfnrrRtNVg",
        "outputId": "ae869865-8812-45ce-be1e-944da4cbb3a2"
      },
      "source": [
        "# Calculate the number of students passing math.\n",
        "passing_math_count = passing_math[\"student_name\"].count()\n",
        "print(passing_math_count,passing_reading_count)\n",
        "# Calculate the number of students passing reading.\n",
        "passing_reading_count = passing_reading[\"student_name\"].count()"
      ],
      "execution_count": 14,
      "outputs": [
        {
          "output_type": "stream",
          "name": "stdout",
          "text": [
            "29370 33610\n"
          ]
        }
      ]
    },
    {
      "cell_type": "code",
      "metadata": {
        "id": "eL_2v6h-tNP3"
      },
      "source": [
        "# Calculate the percent that passed math.\n",
        "passing_math_percentage = passing_math_count / float(student_count) * 100\n",
        "\n",
        "# Calculate the percent that passed reading.\n",
        "passing_reading_percentage = passing_reading_count / float(student_count) * 100\n"
      ],
      "execution_count": 24,
      "outputs": []
    },
    {
      "cell_type": "code",
      "metadata": {
        "colab": {
          "base_uri": "https://localhost:8080/",
          "height": 326
        },
        "id": "FjL6o-QatNNQ",
        "outputId": "1b3e6eda-f569-4975-d5de-0824fa256749"
      },
      "source": [
        "# Calculate the students who passed both math and reading.\n",
        "passing_math_reading = school_data_complete_df[(school_data_complete_df[\"math_score\"] >= 70) & (school_data_complete_df[\"reading_score\"] >= 70)]\n",
        "\n",
        "passing_math_reading.head()"
      ],
      "execution_count": 25,
      "outputs": [
        {
          "output_type": "execute_result",
          "data": {
            "text/plain": [
              "   Unnamed: 0  Student ID    student_name gender grade        school_name  \\\n",
              "4           4           4      Bonnie Ray      F   9th  Huang High School   \n",
              "5           5           5   Bryan Miranda      M   9th  Huang High School   \n",
              "6           6           6   Sheena Carter      F  11th  Huang High School   \n",
              "8           8           8    Michael Roth      M  10th  Huang High School   \n",
              "9           9           9  Matthew Greene      M  10th  Huang High School   \n",
              "\n",
              "   reading_score  math_score  School ID      type  size   budget  \n",
              "4             97          84          0  District  2917  1910635  \n",
              "5             94          94          0  District  2917  1910635  \n",
              "6             82          80          0  District  2917  1910635  \n",
              "8             95          87          0  District  2917  1910635  \n",
              "9             96          84          0  District  2917  1910635  "
            ],
            "text/html": [
              "<div>\n",
              "<style scoped>\n",
              "    .dataframe tbody tr th:only-of-type {\n",
              "        vertical-align: middle;\n",
              "    }\n",
              "\n",
              "    .dataframe tbody tr th {\n",
              "        vertical-align: top;\n",
              "    }\n",
              "\n",
              "    .dataframe thead th {\n",
              "        text-align: right;\n",
              "    }\n",
              "</style>\n",
              "<table border=\"1\" class=\"dataframe\">\n",
              "  <thead>\n",
              "    <tr style=\"text-align: right;\">\n",
              "      <th></th>\n",
              "      <th>Unnamed: 0</th>\n",
              "      <th>Student ID</th>\n",
              "      <th>student_name</th>\n",
              "      <th>gender</th>\n",
              "      <th>grade</th>\n",
              "      <th>school_name</th>\n",
              "      <th>reading_score</th>\n",
              "      <th>math_score</th>\n",
              "      <th>School ID</th>\n",
              "      <th>type</th>\n",
              "      <th>size</th>\n",
              "      <th>budget</th>\n",
              "    </tr>\n",
              "  </thead>\n",
              "  <tbody>\n",
              "    <tr>\n",
              "      <th>4</th>\n",
              "      <td>4</td>\n",
              "      <td>4</td>\n",
              "      <td>Bonnie Ray</td>\n",
              "      <td>F</td>\n",
              "      <td>9th</td>\n",
              "      <td>Huang High School</td>\n",
              "      <td>97</td>\n",
              "      <td>84</td>\n",
              "      <td>0</td>\n",
              "      <td>District</td>\n",
              "      <td>2917</td>\n",
              "      <td>1910635</td>\n",
              "    </tr>\n",
              "    <tr>\n",
              "      <th>5</th>\n",
              "      <td>5</td>\n",
              "      <td>5</td>\n",
              "      <td>Bryan Miranda</td>\n",
              "      <td>M</td>\n",
              "      <td>9th</td>\n",
              "      <td>Huang High School</td>\n",
              "      <td>94</td>\n",
              "      <td>94</td>\n",
              "      <td>0</td>\n",
              "      <td>District</td>\n",
              "      <td>2917</td>\n",
              "      <td>1910635</td>\n",
              "    </tr>\n",
              "    <tr>\n",
              "      <th>6</th>\n",
              "      <td>6</td>\n",
              "      <td>6</td>\n",
              "      <td>Sheena Carter</td>\n",
              "      <td>F</td>\n",
              "      <td>11th</td>\n",
              "      <td>Huang High School</td>\n",
              "      <td>82</td>\n",
              "      <td>80</td>\n",
              "      <td>0</td>\n",
              "      <td>District</td>\n",
              "      <td>2917</td>\n",
              "      <td>1910635</td>\n",
              "    </tr>\n",
              "    <tr>\n",
              "      <th>8</th>\n",
              "      <td>8</td>\n",
              "      <td>8</td>\n",
              "      <td>Michael Roth</td>\n",
              "      <td>M</td>\n",
              "      <td>10th</td>\n",
              "      <td>Huang High School</td>\n",
              "      <td>95</td>\n",
              "      <td>87</td>\n",
              "      <td>0</td>\n",
              "      <td>District</td>\n",
              "      <td>2917</td>\n",
              "      <td>1910635</td>\n",
              "    </tr>\n",
              "    <tr>\n",
              "      <th>9</th>\n",
              "      <td>9</td>\n",
              "      <td>9</td>\n",
              "      <td>Matthew Greene</td>\n",
              "      <td>M</td>\n",
              "      <td>10th</td>\n",
              "      <td>Huang High School</td>\n",
              "      <td>96</td>\n",
              "      <td>84</td>\n",
              "      <td>0</td>\n",
              "      <td>District</td>\n",
              "      <td>2917</td>\n",
              "      <td>1910635</td>\n",
              "    </tr>\n",
              "  </tbody>\n",
              "</table>\n",
              "</div>"
            ]
          },
          "metadata": {},
          "execution_count": 25
        }
      ]
    },
    {
      "cell_type": "code",
      "metadata": {
        "colab": {
          "base_uri": "https://localhost:8080/"
        },
        "id": "qfD_npgkyjmO",
        "outputId": "95025d88-0299-4ba9-bc31-e73ccc37a6fd"
      },
      "source": [
        "# Calculate the number of students who passed both math and reading.\n",
        "overall_passing_math_reading_count = passing_math_reading[\"student_name\"].count()\n",
        "overall_passing_math_reading_count"
      ],
      "execution_count": 29,
      "outputs": [
        {
          "output_type": "execute_result",
          "data": {
            "text/plain": [
              "25528"
            ]
          },
          "metadata": {},
          "execution_count": 29
        }
      ]
    },
    {
      "cell_type": "code",
      "metadata": {
        "colab": {
          "base_uri": "https://localhost:8080/"
        },
        "id": "Abj2DPVXyjj4",
        "outputId": "1bae8a02-a86e-4590-fac6-29a211a0d59c"
      },
      "source": [
        "# Calculate the overall passing percentage.\n",
        "overall_passing_percentage = overall_passing_math_reading_count / student_count * 100\n",
        "overall_passing_percentage"
      ],
      "execution_count": 30,
      "outputs": [
        {
          "output_type": "execute_result",
          "data": {
            "text/plain": [
              "65.17232575950983"
            ]
          },
          "metadata": {},
          "execution_count": 30
        }
      ]
    },
    {
      "cell_type": "code",
      "metadata": {
        "colab": {
          "base_uri": "https://localhost:8080/",
          "height": 114
        },
        "id": "_48SREKoyjiW",
        "outputId": "bf71b4f6-a513-4b67-9949-4e3e9e39671e"
      },
      "source": [
        "# Adding a list of values with keys to create a new DataFrame.\n",
        "district_summary_df = pd.DataFrame(\n",
        "          [{\"Total Schools\": school_count,\n",
        "          \"Total Students\": student_count,\n",
        "          \"Total Budget\": total_budget,\n",
        "          \"Average Math Score\": average_math_score,\n",
        "          \"Average Reading Score\": average_reading_score,\n",
        "          \"% Passing Math\": passing_math_percentage,\n",
        "         \"% Passing Reading\": passing_reading_percentage,\n",
        "        \"% Overall Passing\": overall_passing_percentage}])\n",
        "district_summary_df"
      ],
      "execution_count": 40,
      "outputs": [
        {
          "output_type": "execute_result",
          "data": {
            "text/plain": [
              "   Total Schools  Total Students  Total Budget  Average Math Score  \\\n",
              "0             15           39170      24649428           78.985371   \n",
              "\n",
              "   Average Reading Score  % Passing Math  % Passing Reading  % Overall Passing  \n",
              "0               81.87784       74.980853          85.805463          65.172326  "
            ],
            "text/html": [
              "<div>\n",
              "<style scoped>\n",
              "    .dataframe tbody tr th:only-of-type {\n",
              "        vertical-align: middle;\n",
              "    }\n",
              "\n",
              "    .dataframe tbody tr th {\n",
              "        vertical-align: top;\n",
              "    }\n",
              "\n",
              "    .dataframe thead th {\n",
              "        text-align: right;\n",
              "    }\n",
              "</style>\n",
              "<table border=\"1\" class=\"dataframe\">\n",
              "  <thead>\n",
              "    <tr style=\"text-align: right;\">\n",
              "      <th></th>\n",
              "      <th>Total Schools</th>\n",
              "      <th>Total Students</th>\n",
              "      <th>Total Budget</th>\n",
              "      <th>Average Math Score</th>\n",
              "      <th>Average Reading Score</th>\n",
              "      <th>% Passing Math</th>\n",
              "      <th>% Passing Reading</th>\n",
              "      <th>% Overall Passing</th>\n",
              "    </tr>\n",
              "  </thead>\n",
              "  <tbody>\n",
              "    <tr>\n",
              "      <th>0</th>\n",
              "      <td>15</td>\n",
              "      <td>39170</td>\n",
              "      <td>24649428</td>\n",
              "      <td>78.985371</td>\n",
              "      <td>81.87784</td>\n",
              "      <td>74.980853</td>\n",
              "      <td>85.805463</td>\n",
              "      <td>65.172326</td>\n",
              "    </tr>\n",
              "  </tbody>\n",
              "</table>\n",
              "</div>"
            ]
          },
          "metadata": {},
          "execution_count": 40
        }
      ]
    },
    {
      "cell_type": "code",
      "metadata": {
        "id": "2q3SST-9yjfN"
      },
      "source": [
        "# Define a function that calculates the percentage of students that passed both # math and reading and prints the passing percentage to the output when the\n",
        "# function is called.\n",
        "def passing_math_percent(pass_math_count, student_count):\n",
        "    return pass_math_count / float(student_count) * 100"
      ],
      "execution_count": 46,
      "outputs": []
    },
    {
      "cell_type": "code",
      "metadata": {
        "id": "ozyvxw2xyjcp"
      },
      "source": [
        "passing_math_count = 29370\n",
        "total_student_count = 39170"
      ],
      "execution_count": 47,
      "outputs": []
    },
    {
      "cell_type": "code",
      "metadata": {
        "colab": {
          "base_uri": "https://localhost:8080/"
        },
        "id": "guYExRkGyjaN",
        "outputId": "955fdd91-8df3-41c3-a98e-bf22b3759ee5"
      },
      "source": [
        "# Call the function.\n",
        "passing_math_percent(passing_math_count, total_student_count)"
      ],
      "execution_count": 48,
      "outputs": [
        {
          "output_type": "execute_result",
          "data": {
            "text/plain": [
              "74.9808526933878"
            ]
          },
          "metadata": {},
          "execution_count": 48
        }
      ]
    },
    {
      "cell_type": "code",
      "metadata": {
        "colab": {
          "base_uri": "https://localhost:8080/"
        },
        "id": "X-cbhk_QyjX1",
        "outputId": "819ac741-402d-4e1a-bd7e-f88b5851a5a2"
      },
      "source": [
        "# Format the \"Total Students\" to have the comma for a thousands separator.\n",
        "district_summary_df[\"Total Students\"] = district_summary_df[\"Total Students\"].map(\"{:,}\".format)\n",
        "\n",
        "district_summary_df[\"Total Students\"]"
      ],
      "execution_count": 49,
      "outputs": [
        {
          "output_type": "execute_result",
          "data": {
            "text/plain": [
              "0    39,170\n",
              "Name: Total Students, dtype: object"
            ]
          },
          "metadata": {},
          "execution_count": 49
        }
      ]
    },
    {
      "cell_type": "code",
      "metadata": {
        "colab": {
          "base_uri": "https://localhost:8080/"
        },
        "id": "nKjlpHFNBCTS",
        "outputId": "fd27f20e-553f-4f5a-86a2-1e9cd83d9cbd"
      },
      "source": [
        "# Format \"Total Budget\" to have the comma for a thousands separator, a decimal separator, and a \"$\".\n",
        "\n",
        "district_summary_df[\"Total Budget\"] = district_summary_df[\"Total Budget\"].map(\"${:,.2f}\".format)\n",
        "\n",
        "district_summary_df[\"Total Budget\"]"
      ],
      "execution_count": 51,
      "outputs": [
        {
          "output_type": "execute_result",
          "data": {
            "text/plain": [
              "0    $24,649,428.00\n",
              "Name: Total Budget, dtype: object"
            ]
          },
          "metadata": {},
          "execution_count": 51
        }
      ]
    },
    {
      "cell_type": "code",
      "metadata": {
        "colab": {
          "base_uri": "https://localhost:8080/",
          "height": 588
        },
        "id": "I3MXpytqBCQ-",
        "outputId": "94c5cace-09a7-4b1f-c541-f5302cea42f1"
      },
      "source": [
        "# Format the columns.\n",
        "district_summary_df[\"Average Math Score\"] = district_summary_df[\"Average Math Score\"].map(\"{:.1f}\".format)\n",
        "\n",
        "district_summary_df[\"Average Reading Score\"] = district_summary_df[\"Average Reading Score\"].map(\"{:.1f}\".format)\n",
        "\n",
        "district_summary_df[\"% Passing Math\"] = district_summary_df[\"% Passing Math\"].map(\"{:.0f}\".format)\n",
        "\n",
        "district_summary_df[\"% Passing Reading\"] = district_summary_df[\"% Passing Reading\"].map(\"{:.0f}\".format)\n",
        "\n",
        "district_summary_df[\"% Overall Passing\"] = district_summary_df[\"% Overall Passing\"].map(\"{:.0f}\".format)\n"
      ],
      "execution_count": 54,
      "outputs": [
        {
          "output_type": "error",
          "ename": "ValueError",
          "evalue": "ignored",
          "traceback": [
            "\u001b[1;31m---------------------------------------------------------------------------\u001b[0m",
            "\u001b[1;31mValueError\u001b[0m                                Traceback (most recent call last)",
            "\u001b[1;32m~\\AppData\\Local\\Temp/ipykernel_13680/3148384957.py\u001b[0m in \u001b[0;36m<module>\u001b[1;34m\u001b[0m\n\u001b[0;32m      1\u001b[0m \u001b[1;31m# Format the columns.\u001b[0m\u001b[1;33m\u001b[0m\u001b[1;33m\u001b[0m\u001b[1;33m\u001b[0m\u001b[0m\n\u001b[1;32m----> 2\u001b[1;33m \u001b[0mdistrict_summary_df\u001b[0m\u001b[1;33m[\u001b[0m\u001b[1;34m\"Average Math Score\"\u001b[0m\u001b[1;33m]\u001b[0m \u001b[1;33m=\u001b[0m \u001b[0mdistrict_summary_df\u001b[0m\u001b[1;33m[\u001b[0m\u001b[1;34m\"Average Math Score\"\u001b[0m\u001b[1;33m]\u001b[0m\u001b[1;33m.\u001b[0m\u001b[0mmap\u001b[0m\u001b[1;33m(\u001b[0m\u001b[1;34m\"{:.1f}\"\u001b[0m\u001b[1;33m.\u001b[0m\u001b[0mformat\u001b[0m\u001b[1;33m)\u001b[0m\u001b[1;33m\u001b[0m\u001b[1;33m\u001b[0m\u001b[0m\n\u001b[0m\u001b[0;32m      3\u001b[0m \u001b[1;33m\u001b[0m\u001b[0m\n\u001b[0;32m      4\u001b[0m \u001b[0mdistrict_summary_df\u001b[0m\u001b[1;33m[\u001b[0m\u001b[1;34m\"Average Reading Score\"\u001b[0m\u001b[1;33m]\u001b[0m \u001b[1;33m=\u001b[0m \u001b[0mdistrict_summary_df\u001b[0m\u001b[1;33m[\u001b[0m\u001b[1;34m\"Average Reading Score\"\u001b[0m\u001b[1;33m]\u001b[0m\u001b[1;33m.\u001b[0m\u001b[0mmap\u001b[0m\u001b[1;33m(\u001b[0m\u001b[1;34m\"{:.1f}\"\u001b[0m\u001b[1;33m.\u001b[0m\u001b[0mformat\u001b[0m\u001b[1;33m)\u001b[0m\u001b[1;33m\u001b[0m\u001b[1;33m\u001b[0m\u001b[0m\n\u001b[0;32m      5\u001b[0m \u001b[1;33m\u001b[0m\u001b[0m\n",
            "\u001b[1;32m~\\anaconda3\\envs\\PythonData\\lib\\site-packages\\pandas\\core\\series.py\u001b[0m in \u001b[0;36mmap\u001b[1;34m(self, arg, na_action)\u001b[0m\n\u001b[0;32m   4159\u001b[0m         \u001b[0mdtype\u001b[0m\u001b[1;33m:\u001b[0m \u001b[0mobject\u001b[0m\u001b[1;33m\u001b[0m\u001b[1;33m\u001b[0m\u001b[0m\n\u001b[0;32m   4160\u001b[0m         \"\"\"\n\u001b[1;32m-> 4161\u001b[1;33m         \u001b[0mnew_values\u001b[0m \u001b[1;33m=\u001b[0m \u001b[0msuper\u001b[0m\u001b[1;33m(\u001b[0m\u001b[1;33m)\u001b[0m\u001b[1;33m.\u001b[0m\u001b[0m_map_values\u001b[0m\u001b[1;33m(\u001b[0m\u001b[0marg\u001b[0m\u001b[1;33m,\u001b[0m \u001b[0mna_action\u001b[0m\u001b[1;33m=\u001b[0m\u001b[0mna_action\u001b[0m\u001b[1;33m)\u001b[0m\u001b[1;33m\u001b[0m\u001b[1;33m\u001b[0m\u001b[0m\n\u001b[0m\u001b[0;32m   4162\u001b[0m         return self._constructor(new_values, index=self.index).__finalize__(\n\u001b[0;32m   4163\u001b[0m             \u001b[0mself\u001b[0m\u001b[1;33m,\u001b[0m \u001b[0mmethod\u001b[0m\u001b[1;33m=\u001b[0m\u001b[1;34m\"map\"\u001b[0m\u001b[1;33m\u001b[0m\u001b[1;33m\u001b[0m\u001b[0m\n",
            "\u001b[1;32m~\\anaconda3\\envs\\PythonData\\lib\\site-packages\\pandas\\core\\base.py\u001b[0m in \u001b[0;36m_map_values\u001b[1;34m(self, mapper, na_action)\u001b[0m\n\u001b[0;32m    868\u001b[0m \u001b[1;33m\u001b[0m\u001b[0m\n\u001b[0;32m    869\u001b[0m         \u001b[1;31m# mapper is a function\u001b[0m\u001b[1;33m\u001b[0m\u001b[1;33m\u001b[0m\u001b[1;33m\u001b[0m\u001b[0m\n\u001b[1;32m--> 870\u001b[1;33m         \u001b[0mnew_values\u001b[0m \u001b[1;33m=\u001b[0m \u001b[0mmap_f\u001b[0m\u001b[1;33m(\u001b[0m\u001b[0mvalues\u001b[0m\u001b[1;33m,\u001b[0m \u001b[0mmapper\u001b[0m\u001b[1;33m)\u001b[0m\u001b[1;33m\u001b[0m\u001b[1;33m\u001b[0m\u001b[0m\n\u001b[0m\u001b[0;32m    871\u001b[0m \u001b[1;33m\u001b[0m\u001b[0m\n\u001b[0;32m    872\u001b[0m         \u001b[1;32mreturn\u001b[0m \u001b[0mnew_values\u001b[0m\u001b[1;33m\u001b[0m\u001b[1;33m\u001b[0m\u001b[0m\n",
            "\u001b[1;32m~\\anaconda3\\envs\\PythonData\\lib\\site-packages\\pandas\\_libs\\lib.pyx\u001b[0m in \u001b[0;36mpandas._libs.lib.map_infer\u001b[1;34m()\u001b[0m\n",
            "\u001b[1;31mValueError\u001b[0m: Unknown format code 'f' for object of type 'str'"
          ]
        }
      ]
    },
    {
      "cell_type": "code",
      "metadata": {
        "colab": {
          "base_uri": "https://localhost:8080/",
          "height": 114
        },
        "id": "Nc1JWYZ2BCOa",
        "outputId": "40fad579-db96-413e-8143-d51660dc878b"
      },
      "source": [
        "district_summary_df\n"
      ],
      "execution_count": 55,
      "outputs": [
        {
          "output_type": "execute_result",
          "data": {
            "text/plain": [
              "   Total Schools Total Students    Total Budget Average Math Score  \\\n",
              "0             15         39,170  $24,649,428.00               79.0   \n",
              "\n",
              "  Average Reading Score % Passing Math % Passing Reading % Overall Passing  \n",
              "0                  81.9             75                86                65  "
            ],
            "text/html": [
              "<div>\n",
              "<style scoped>\n",
              "    .dataframe tbody tr th:only-of-type {\n",
              "        vertical-align: middle;\n",
              "    }\n",
              "\n",
              "    .dataframe tbody tr th {\n",
              "        vertical-align: top;\n",
              "    }\n",
              "\n",
              "    .dataframe thead th {\n",
              "        text-align: right;\n",
              "    }\n",
              "</style>\n",
              "<table border=\"1\" class=\"dataframe\">\n",
              "  <thead>\n",
              "    <tr style=\"text-align: right;\">\n",
              "      <th></th>\n",
              "      <th>Total Schools</th>\n",
              "      <th>Total Students</th>\n",
              "      <th>Total Budget</th>\n",
              "      <th>Average Math Score</th>\n",
              "      <th>Average Reading Score</th>\n",
              "      <th>% Passing Math</th>\n",
              "      <th>% Passing Reading</th>\n",
              "      <th>% Overall Passing</th>\n",
              "    </tr>\n",
              "  </thead>\n",
              "  <tbody>\n",
              "    <tr>\n",
              "      <th>0</th>\n",
              "      <td>15</td>\n",
              "      <td>39,170</td>\n",
              "      <td>$24,649,428.00</td>\n",
              "      <td>79.0</td>\n",
              "      <td>81.9</td>\n",
              "      <td>75</td>\n",
              "      <td>86</td>\n",
              "      <td>65</td>\n",
              "    </tr>\n",
              "  </tbody>\n",
              "</table>\n",
              "</div>"
            ]
          },
          "metadata": {},
          "execution_count": 55
        }
      ]
    },
    {
      "cell_type": "code",
      "metadata": {
        "colab": {
          "base_uri": "https://localhost:8080/",
          "height": 114
        },
        "id": "2fub2AXsBCMq",
        "outputId": "748f2697-5cb6-4440-edeb-3c455087058c"
      },
      "source": [
        "# Reorder the columns in the order you want them to appear.\n",
        "new_column_order = [\"Total Schools\", \"Total Students\", \"Total Budget\",\"Average Math Score\", \"Average Reading Score\", \"% Passing Math\", \"% Passing Reading\", \"% Overall Passing\"]\n",
        "\n",
        "# Assign district summary df the new column order.\n",
        "district_summary_df = district_summary_df[new_column_order]\n",
        "district_summary_df"
      ],
      "execution_count": 56,
      "outputs": [
        {
          "output_type": "execute_result",
          "data": {
            "text/plain": [
              "   Total Schools Total Students    Total Budget Average Math Score  \\\n",
              "0             15         39,170  $24,649,428.00               79.0   \n",
              "\n",
              "  Average Reading Score % Passing Math % Passing Reading % Overall Passing  \n",
              "0                  81.9             75                86                65  "
            ],
            "text/html": [
              "<div>\n",
              "<style scoped>\n",
              "    .dataframe tbody tr th:only-of-type {\n",
              "        vertical-align: middle;\n",
              "    }\n",
              "\n",
              "    .dataframe tbody tr th {\n",
              "        vertical-align: top;\n",
              "    }\n",
              "\n",
              "    .dataframe thead th {\n",
              "        text-align: right;\n",
              "    }\n",
              "</style>\n",
              "<table border=\"1\" class=\"dataframe\">\n",
              "  <thead>\n",
              "    <tr style=\"text-align: right;\">\n",
              "      <th></th>\n",
              "      <th>Total Schools</th>\n",
              "      <th>Total Students</th>\n",
              "      <th>Total Budget</th>\n",
              "      <th>Average Math Score</th>\n",
              "      <th>Average Reading Score</th>\n",
              "      <th>% Passing Math</th>\n",
              "      <th>% Passing Reading</th>\n",
              "      <th>% Overall Passing</th>\n",
              "    </tr>\n",
              "  </thead>\n",
              "  <tbody>\n",
              "    <tr>\n",
              "      <th>0</th>\n",
              "      <td>15</td>\n",
              "      <td>39,170</td>\n",
              "      <td>$24,649,428.00</td>\n",
              "      <td>79.0</td>\n",
              "      <td>81.9</td>\n",
              "      <td>75</td>\n",
              "      <td>86</td>\n",
              "      <td>65</td>\n",
              "    </tr>\n",
              "  </tbody>\n",
              "</table>\n",
              "</div>"
            ]
          },
          "metadata": {},
          "execution_count": 56
        }
      ]
    },
    {
      "cell_type": "code",
      "metadata": {
        "id": "F1XLuMedBCJ7"
      },
      "source": [
        ""
      ],
      "execution_count": null,
      "outputs": []
    },
    {
      "cell_type": "code",
      "metadata": {
        "id": "7xp-YhQsBCHr"
      },
      "source": [
        ""
      ],
      "execution_count": null,
      "outputs": []
    },
    {
      "cell_type": "code",
      "metadata": {
        "id": "GQxqOAKgBCFa"
      },
      "source": [
        ""
      ],
      "execution_count": null,
      "outputs": []
    }
  ]
}